{
 "cells": [
  {
   "cell_type": "markdown",
   "id": "dbd633ea-2c0a-4bac-a6fe-0cc86896162b",
   "metadata": {},
   "source": [
    "### Background Information\n",
    "Does going to university in a different country affect your mental health? A university surveyed its students in 2018 and published a study the following year that was approved by several ethical and regulatory boards.\n",
    "\n",
    "The study found that international students have a higher risk of mental health difficulties than the general population, and that social connectedness (belonging to a social group) and acculturative stress (stress associated with joining a new culture) are predictive of depression.\n",
    "\n",
    "Here is a data description of the columns you may find helpful."
   ]
  },
  {
   "cell_type": "markdown",
   "id": "167d9c0e-7aba-4e44-99e3-679159e28970",
   "metadata": {},
   "source": [
    "| Field Name    | Description                                      |\n",
    "| ------------- | ------------------------------------------------ |\n",
    "| `inter_dom`     | Types of students (international or domestic)   |\n",
    "| `japanese_cate` | Japanese language proficiency                    |\n",
    "| `english_cate`  | English language proficiency                     |\n",
    "| `academic`      | Current academic level (undergraduate or graduate) |\n",
    "| `age`           | Current age of student                           |\n",
    "| `stay`          | Current length of stay in years                  |\n",
    "| `todep`         | Total score of depression (PHQ-9 test)           |\n",
    "| `tosc`          | Total score of social connectedness (SCS test)   |\n",
    "| `toas`          | Total score of acculturative stress (ASISS test) |"
   ]
  },
  {
   "cell_type": "markdown",
   "id": "fa835208",
   "metadata": {},
   "source": [
    "## Create students.db"
   ]
  },
  {
   "cell_type": "code",
   "execution_count": 18,
   "id": "17da31d2",
   "metadata": {},
   "outputs": [],
   "source": [
    "# !pip install pandas sqlite3 ipython-sql jupyter\n",
    "# !pip install sqlalchemy"
   ]
  },
  {
   "cell_type": "code",
   "execution_count": 19,
   "id": "193c451b",
   "metadata": {},
   "outputs": [],
   "source": [
    "import sqlite3\n",
    "from sqlalchemy import create_engine\n",
    "\n",
    "import numpy as np\n",
    "import pandas as pd\n",
    "import matplotlib.pyplot as plt\n",
    "import seaborn as sns"
   ]
  },
  {
   "cell_type": "code",
   "execution_count": 20,
   "id": "c528f096",
   "metadata": {},
   "outputs": [],
   "source": [
    "# Print SQLite version to ensure it's working\n",
    "# print(f\"SQLite version: {sqlite3.sqlite_version}\")"
   ]
  },
  {
   "cell_type": "code",
   "execution_count": null,
   "id": "b4ca6492",
   "metadata": {},
   "outputs": [],
   "source": [
    "# Load CSV into DataFrame\n",
    "csv_file = \"students.csv\"\n",
    "df = pd.read_csv(csv_file)\n",
    "\n",
    "# Create SQLite Database\n",
    "conn = sqlite3.connect(\"students.db\")\n",
    "df.to_sql(\"students\", conn, if_exists=\"replace\", index=False)\n",
    "conn.close()\n",
    "print(\"Data loaded into SQLite database successfully.\")"
   ]
  },
  {
   "cell_type": "markdown",
   "id": "8e4440d4",
   "metadata": {},
   "source": [
    "## Data Preprocessing"
   ]
  },
  {
   "cell_type": "code",
   "execution_count": null,
   "id": "d76a3879",
   "metadata": {},
   "outputs": [],
   "source": [
    "# Connect to SQLite database\n",
    "engine = create_engine(\"sqlite:///students.db\")\n",
    "\n",
    "# Load the data from the database for analysis\n",
    "query = \"\"\"\n",
    "SELECT inter_dom, japanese_cate, english_cate, academic, age, stay, todep, tosc, toas\n",
    "FROM students\n",
    "WHERE inter_dom = 'Inter';\n",
    "\"\"\"\n",
    "\n",
    "# query = \"\"\"\n",
    "# SELECT *\n",
    "# FROM students\n",
    "# WHERE inter_dom = 'Inter';\n",
    "# \"\"\"\n",
    "\n",
    "data = pd.read_sql_query(query, engine)\n",
    "data"
   ]
  },
  {
   "cell_type": "code",
   "execution_count": null,
   "id": "9196df67",
   "metadata": {},
   "outputs": [],
   "source": [
    "# Check for missing values\n",
    "missing_values = data.isnull().sum()\n",
    "print(\"Missing Values:\\n\", missing_values)"
   ]
  },
  {
   "cell_type": "markdown",
   "id": "c353e7b7",
   "metadata": {},
   "source": [
    "* Transformed features like japanese_cate, english_cate, and academic into machine-readable formats to enable statistical and machine learning analyses."
   ]
  },
  {
   "cell_type": "code",
   "execution_count": 24,
   "id": "3181d7f4",
   "metadata": {},
   "outputs": [],
   "source": [
    "# # Convert categorical columns to numerical if necessary\n",
    "# categorical_columns = ['japanese_cate', 'english_cate', 'academic']\n",
    "# data = pd.get_dummies(data, columns=categorical_columns, drop_first=True)\n",
    "# data.head(15)"
   ]
  },
  {
   "cell_type": "markdown",
   "id": "5e194079",
   "metadata": {},
   "source": [
    "## Exploratory Data Analysis"
   ]
  },
  {
   "cell_type": "markdown",
   "id": "fc35fcb0",
   "metadata": {},
   "source": [
    "* Used Seaborn heatmaps to visualize correlations and pairplots to explore variable distributions and relationships.\n",
    "    * Heatmaps and pairplots reveal correlations and trends among variables, making the data actionable for university administrators."
   ]
  },
  {
   "cell_type": "code",
   "execution_count": null,
   "id": "d83f06a7",
   "metadata": {},
   "outputs": [],
   "source": [
    "# Visualize correlations using a heatmap\n",
    "plt.figure(figsize=(10, 8))\n",
    "numeric_data = data.select_dtypes(include=[np.number])\n",
    "sns.heatmap(numeric_data.corr(), annot=True, cmap=\"coolwarm\", fmt=\".2f\")\n",
    "plt.title(\"Correlation Heatmap\")\n",
    "plt.show()"
   ]
  },
  {
   "cell_type": "markdown",
   "id": "4d6f5020",
   "metadata": {},
   "source": [
    "1) Correlation Heatmap  \n",
    "\n",
    "The heatmap shows the relationships between key variables:  \n",
    "\n",
    "**Depression (todep) vs. Social Connectedness (tosc):**  \n",
    "•\tCorrelation: -0.54  \n",
    "•\tA strong negative relationship, indicating that students with higher social connectedness tend to have lower depression levels.  \n",
    "\n",
    "**Depression (todep) vs. Acculturative Stress (toas):**  \n",
    "•\tCorrelation: 0.41  \n",
    "•\tA moderate positive relationship, suggesting that higher acculturative stress is associated with higher depression scores.  \n",
    "\n",
    "**Depression (todep) vs. Length of Stay (stay):**  \n",
    "•\tCorrelation: 0.07  \n",
    "•\tNo significant relationship, suggesting that length of stay may not directly impact depression.  "
   ]
  },
  {
   "cell_type": "code",
   "execution_count": null,
   "id": "50f4451b",
   "metadata": {},
   "outputs": [],
   "source": [
    "# Pairplot to explore relationships between key variables\n",
    "sns.pairplot(data[['todep', 'tosc', 'toas', 'stay']])\n",
    "plt.suptitle(\"Relationships Between Mental Health Variables\", y=1.02)\n",
    "plt.show()"
   ]
  },
  {
   "cell_type": "markdown",
   "id": "2a22bba5",
   "metadata": {},
   "source": [
    "2. Pairplot Analysis\n",
    "\n",
    "The pairplot provides a visual representation of the relationships:  \n",
    "\t•\tClear **negative trend** between `todep` (depression) and `tosc` (social connectedness).  \n",
    "\t•\tA **positive trend** between `todep` and `toas` (acculturative stress), with some variability.  \n",
    "\t•\tDistribution of `stay` suggests that most students are in their early years of study, with fewer staying longer.  "
   ]
  },
  {
   "cell_type": "markdown",
   "id": "e0792d44",
   "metadata": {},
   "source": [
    "## Statistical Analysis"
   ]
  },
  {
   "cell_type": "markdown",
   "id": "d2db45e7",
   "metadata": {},
   "source": [
    "### Demographic Insights"
   ]
  },
  {
   "cell_type": "markdown",
   "id": "534f6ab4",
   "metadata": {},
   "source": [
    "Academic Level:  \n",
    "\t•\tHigher depression scores in undergraduates may indicate the need for peer mentorship programs.  \n",
    "\n",
    "Language Proficiency:  \n",
    "\t•\tLow Japanese/English proficiency might correlate with higher stress and depression, highlighting the importance of language support programs.\n",
    "\t\n",
    "Age:  \n",
    "\t•\tOlder students might have lower stress or depression due to better coping mechanisms."
   ]
  },
  {
   "cell_type": "code",
   "execution_count": null,
   "id": "b2da8d2b",
   "metadata": {},
   "outputs": [],
   "source": [
    "# Analyze academic level and depression\n",
    "fig, axes = plt.subplots(1, 3, figsize=(21, 6))\n",
    "\n",
    "sns.boxplot(x='academic', y='todep', data=data, ax=axes[0])\n",
    "axes[0].set_title(\"Depression Scores by Academic Level\")\n",
    "axes[0].set_xlabel(\"Academic Level (Undergraduate/Graduate)\")\n",
    "axes[0].set_ylabel(\"Depression Score (PHQ-9)\")\n",
    "\n",
    "# Analyze English language proficiency and depression\n",
    "sns.boxplot(x='english_cate', y='todep', data=data, ax=axes[1])\n",
    "axes[1].set_title(\"Depression Scores by English Proficiency\")\n",
    "axes[1].set_xlabel(\"English Language Proficiency\")\n",
    "axes[1].set_ylabel(\"Depression Score (PHQ-9)\")\n",
    "\n",
    "# Analyze Japanese language proficiency and depression\n",
    "japanese_order = ['High', 'Average', 'Low']  # Specify the correct order\n",
    "sns.boxplot(x='japanese_cate', y='todep', data=data, ax=axes[2], order=japanese_order)\n",
    "axes[2].set_title(\"Depression Scores by Japanese Proficiency\")\n",
    "axes[2].set_xlabel(\"Japanese Language Proficiency\")\n",
    "axes[2].set_ylabel(\"Depression Score (PHQ-9)\")\n",
    "\n",
    "plt.tight_layout()\n",
    "plt.show()\n"
   ]
  },
  {
   "cell_type": "code",
   "execution_count": null,
   "id": "51a6c2a8",
   "metadata": {},
   "outputs": [],
   "source": [
    "# Analyze age and depression\n",
    "from scipy.stats import pearsonr\n",
    "\n",
    "sns.scatterplot(data=data, x='age', y='todep')\n",
    "plt.title('Depression by Age')\n",
    "plt.show()\n",
    "\n",
    "corr_age_todep, pval_age_todep = pearsonr(data['age'], data['todep'])\n",
    "print(f\"Correlation between Age and Depression: {corr_age_todep:.2f}, p-value: {pval_age_todep:.4f}\")"
   ]
  },
  {
   "cell_type": "markdown",
   "id": "21a02a78",
   "metadata": {},
   "source": [
    "* Applied Pearson correlation and p-value testing to determine the strength and significance of relationships between variables."
   ]
  },
  {
   "cell_type": "code",
   "execution_count": null,
   "id": "cda93cdd",
   "metadata": {},
   "outputs": [],
   "source": [
    "# Correlation between depression and social connectedness\n",
    "corr_todep_tosc, pval_todep_tosc = pearsonr(data['todep'], data['tosc'])\n",
    "# Correlation between depression and acculturative stress\n",
    "corr_todep_toas, pval_todep_toas = pearsonr(data['todep'], data['toas'])\n",
    "# Correlation between depression and length of stay\n",
    "corr_todep_stay, pval_todep_stay = pearsonr(data['todep'], data['stay'])\n",
    "\n",
    "# Print results\n",
    "print(f\"Depression vs Social Connectedness: Correlation = {corr_todep_tosc:.2f}, p-value = {pval_todep_tosc:.4f}\")\n",
    "print(f\"Depression vs Acculturative Stress: Correlation = {corr_todep_toas:.2f}, p-value = {pval_todep_toas:.4f}\")\n",
    "print(f\"Depression vs Length of Stay: Correlation = {corr_todep_stay:.2f}, p-value = {pval_todep_stay:.4f}\")"
   ]
  },
  {
   "cell_type": "markdown",
   "id": "d2560173",
   "metadata": {},
   "source": [
    "3. Statistical Hypothesis Testing\n",
    "\n",
    "**Depression vs. Social Connectedness:**  \n",
    "•\tCorrelation: `-0.54`, p-value: `0.0000`  \n",
    "•\tThe p-value is essentially zero, which is much **smaller** than the typical significance threshold of **0.05**.  \n",
    "•\tThis means the **negative relationship** between depression (todep) and social connectedness (tosc) is **highly significant**. We can confidently say that higher social connectedness reduces depression.\n",
    "\n",
    "**Depression vs. Acculturative Stress:**  \n",
    "•\tCorrelation: `0.41`, p-value: `0.0000`  \n",
    "•\tThe p-value is again much **smaller** than **0.05**, indicating that the **positive relationship** between depression (todep) and acculturative stress (toas) is **statistically significant**.  \n",
    "•\tThis confirms that higher acculturative stress is strongly associated with higher depression scores.\n",
    "\n",
    "**Depression vs. Length of Stay:**  \n",
    "•\tCorrelation: `0.07`, p-value: `0.3033`  \n",
    "•\tThe p-value is **greater** than **0.05**, meaning the relationship is **NOT statistically significant**.  \n",
    "•\tThe weak correlation **(0.07)** suggests there is **no meaningful relationship** between length of stay (`stay`) and depression (`todep`).  \n",
    "•\tThis indicates that length of stay alone does not directly influence depression, though it might have an indirect effect through other factors (e.g., building social connectedness over time).\n"
   ]
  },
  {
   "cell_type": "markdown",
   "id": "a309904f",
   "metadata": {},
   "source": [
    "### Analysis of Interaction Effects"
   ]
  },
  {
   "cell_type": "markdown",
   "id": "c2ba676b",
   "metadata": {},
   "source": [
    "This regression analysis explores whether length of stay (stay) moderates the relationships between:  \n",
    "•\tDepression (todep) and social connectedness (tosc).  \n",
    "•\tDepression (todep) and acculturative stress (toas).  "
   ]
  },
  {
   "cell_type": "code",
   "execution_count": null,
   "id": "4adcbc8c",
   "metadata": {},
   "outputs": [],
   "source": [
    "import statsmodels.formula.api as ols\n",
    "# import statsmodels.api as sm\n",
    "\n",
    "# Add interaction terms to explore length of stay's moderating effect\n",
    "formula = \"todep ~ tosc * stay + toas * stay\"\n",
    "interaction_model = ols.ols(formula, data=data).fit()\n",
    "\n",
    "# Summarize the results\n",
    "print(interaction_model.summary())"
   ]
  },
  {
   "cell_type": "markdown",
   "id": "c10d8314",
   "metadata": {},
   "source": [
    "1. Model Fit  \n",
    "\n",
    "R-Squared: 0.316  \n",
    "\t•\tThe model explains 31.6% of the variance in depression scores (todep).  \n",
    "\t•\tThis is a moderate fit, indicating that the included predictors and interaction terms capture some, of the variance in depression.  \n",
    "> If adjusted R^2 decreases when adding a variable, that variable likely does not improve the model. \n",
    "\n",
    "F-Statistic: 18.02  \n",
    "\t•\tThe F-statistic is relatively large, suggesting that the predictors collectively explain a significant portion of the variance in depression scores (todep).  \n",
    "\n",
    "P-Value: 1.11e-14  \n",
    "\t•\tThe associated p-value is extremely small (< 0.05), confirming that the model as a whole is statistically significant.\n",
    "\n",
    "> The predictors in your model (tosc, toas, stay, and their interactions) collectively have a significant relationship with depression scores."
   ]
  },
  {
   "cell_type": "markdown",
   "id": "38601e5f",
   "metadata": {},
   "source": [
    "2. Key Coefficients\n",
    "\n",
    "**Main Effects:**  \n",
    "`tosc` (Social Connectedness):  \n",
    "\t•\tCoefficient: -0.1890, p-value: 0.010  \n",
    "\t•\tSignificant negative effect, confirming that higher social connectedness reduces depression.  \n",
    "\t•\tA unit increase in tosc decreases depression by 0.19 points, holding other variables constant.\n",
    "\n",
    "`toas` (Acculturative Stress):  \n",
    "\t•\tCoefficient: 0.0745, p-value: 0.010  \n",
    "\t•\tSignificant positive effect, indicating that higher acculturative stress increases depression.  \n",
    "\t•\tA unit increase in toas increases depression by 0.0745 points, holding other variables constant.  \n",
    "> The coefficient value (0.0745) is statistically significant because the relationship between toas and todep is consistent and unlikely to occur by chance (p = 0.01 < 0.05).\n",
    "\n",
    "`stay` (Length of Stay):  \n",
    "\t•\tCoefficient: 2.3036, p-value: 0.151  \n",
    "\t•\tNot statistically significant, meaning length of stay alone does not directly affect depression.  \n",
    "\n",
    "\n",
    "\n",
    "**Interaction Effects:**  \n",
    "`tosc:stay` (Social Connectedness × Length of Stay):  \n",
    "\t•\tCoefficient: -0.0241, p-value: 0.427  \n",
    "\t•\tNot statistically significant, suggesting that length of stay does not significantly alter the impact of social connectedness on depression.  \n",
    "\n",
    "`toas:stay` (Acculturative Stress × Length of Stay):  \n",
    "\t•\tCoefficient: -0.0182, p-value: 0.087  \n",
    "\t•\tMarginally significant (p < 0.1), indicating that the effect of acculturative stress on depression weakens slightly as length of stay increases.  "
   ]
  },
  {
   "cell_type": "markdown",
   "id": "38d01ace",
   "metadata": {},
   "source": [
    "3. Interpretation\n",
    "\n",
    "Social Connectedness:  \n",
    "\t•\tStrong and significant negative relationship with depression, regardless of length of stay.  \n",
    "\t•\tLength of stay does not meaningfully change the effect of social connectedness.  \n",
    "\n",
    "Acculturative Stress:  \n",
    "\t•\tPositive relationship with depression but the interaction term `toas:stay` (-0.0182) suggests that the longer students stay, the weaker the relationship between acculturative stress and depression becomes.  \n",
    "\t•\tThis could mean that students who stay longer may adapt better to the new culture, reducing the psychological burden of acculturative stress over time.\n",
    "\n",
    "Length of Stay:  \n",
    "\t•\tNo direct relationship with depression, but it marginally moderates the effect of acculturative stress.  "
   ]
  },
  {
   "cell_type": "markdown",
   "id": "37d8d980",
   "metadata": {},
   "source": [
    "**Key Takeaways:**\n",
    "\n",
    "•\tActionable Insight: Focus interventions on reducing acculturative stress, particularly for students in their early years of study, where its impact on depression is strongest.  \n",
    "•\tSocial Connectedness remains a critical factor in reducing depression, and its importance does not diminish with length of stay."
   ]
  },
  {
   "cell_type": "markdown",
   "id": "97131585",
   "metadata": {},
   "source": [
    "## Machine Learning"
   ]
  },
  {
   "cell_type": "code",
   "execution_count": 31,
   "id": "228c1bf8",
   "metadata": {},
   "outputs": [],
   "source": [
    "from sklearn.model_selection import train_test_split\n",
    "from sklearn.ensemble import RandomForestRegressor, RandomForestClassifier\n",
    "from sklearn.metrics import mean_squared_error, classification_report\n",
    "\n",
    "# Features and target for regression (predict depression scores)\n",
    "X_reg = data[['tosc', 'toas', 'stay']]\n",
    "y_reg = data['todep']\n",
    "\n",
    "# Features and target for classification (high-risk depression threshold)\n",
    "y_class = (data['todep'] > 10).astype(int)  # Example threshold for high depression\n",
    "\n",
    "# Train-test split\n",
    "X_train_reg, X_test_reg, y_train_reg, y_test_reg = train_test_split(X_reg, y_reg, test_size=0.3, random_state=42)\n",
    "X_train_class, X_test_class, y_train_class, y_test_class = train_test_split(X_reg, y_class, test_size=0.3, random_state=42)"
   ]
  },
  {
   "cell_type": "markdown",
   "id": "ea2ab3f8",
   "metadata": {},
   "source": [
    "* Statistical analysis provides insights into relationships but cannot predict outcomes. Machine learning models predict:  \n",
    "    •\t**Regression**: Depression scores based on predictors like social connectedness, acculturative stress, and length of stay.  \n",
    "    •\t**Random Forest Regression** to predict continuous depression scores (e.g., for university-wide monitoring).  \n",
    "\n",
    "    •\t**Classification**: High-risk students for targeted interventions.  \n",
    "    •\t**Random Forest Classifier** to classify students into risk categories based on depression scores."
   ]
  },
  {
   "cell_type": "code",
   "execution_count": null,
   "id": "b82db506",
   "metadata": {},
   "outputs": [],
   "source": [
    "# Regression model\n",
    "regressor = RandomForestRegressor(random_state=42)\n",
    "regressor.fit(X_train_reg, y_train_reg)\n",
    "y_pred_reg = regressor.predict(X_test_reg)\n",
    "\n",
    "print(\"Regression Metrics:\")\n",
    "print(f\"Mean Squared Error: {mean_squared_error(y_test_reg, y_pred_reg):.2f}\")"
   ]
  },
  {
   "cell_type": "markdown",
   "id": "3c8df405",
   "metadata": {},
   "source": [
    "**Regression Metrics**  \n",
    "Mean Squared Error (MSE): `17.59`  \n",
    "•\tDefinition: MSE is the average of the squared differences between actual and predicted values. It penalizes larger errors more than smaller ones.  \n",
    "•\tInterpretation:  An MSE of 17.59 indicates moderate prediction error, meaning the model can predict depression scores with reasonable accuracy but still has room for improvement. Lower MSE values are better; thus, improving feature engineering or trying more complex models (e.g., gradient boosting) could reduce error further.  \n",
    "  "
   ]
  },
  {
   "cell_type": "code",
   "execution_count": null,
   "id": "c7993eb3",
   "metadata": {},
   "outputs": [],
   "source": [
    "# Classification model\n",
    "classifier = RandomForestClassifier(random_state=42)\n",
    "classifier.fit(X_train_class, y_train_class)\n",
    "y_pred_class = classifier.predict(X_test_class)\n",
    "\n",
    "print(\"\\nClassification Report:\")\n",
    "print(classification_report(y_test_class, y_pred_class))"
   ]
  },
  {
   "cell_type": "markdown",
   "id": "b30fe86d",
   "metadata": {},
   "source": [
    "**Classification Report**  \n",
    "The report evaluates the model’s performance in classifying students as “high-risk depression” (Class 1) or “not at risk” (Class 0) using key metrics:  \n",
    "1.\tAccuracy: 75%  \n",
    "•\tDefinition: The proportion of correctly classified instances out of all predictions.  \n",
    "•\tInterpretation: The model correctly predicted whether students were high-risk or not 75% of the time, which is a reasonably good result.  \n",
    "2.\tPrecision (Class 0 = Not at Risk): 0.77  \n",
    "•\tDefinition: The percentage of students predicted as “not at risk” that were actually not at risk.  \n",
    "•\tInterpretation: Of all students classified as “not at risk,” 77% were correct. High precision for Class 0 means the model avoids falsely labeling students as “not at risk” when they are actually at risk.  \n",
    "3.\tRecall (Class 1 = High Risk): 0.45  \n",
    "•\tDefinition: The percentage of actual high-risk students that the model correctly identified.  \n",
    "•\tInterpretation: The model identified 45% of the actual high-risk students. The low recall for Class 1 suggests the model struggles to identify all high-risk students, likely due to class imbalance (fewer high-risk samples in the dataset).  \n",
    "4.\tF1-Score:  \n",
    "•\tClass 0 (Not at Risk): 0.83  \n",
    "•\tCombines precision and recall for Class 0, indicating the model is good at identifying non-risk students.  \n",
    "•\tClass 1 (High Risk): 0.55  \n",
    "•\tCombines precision and recall for high-risk students, showing the model is less effective at identifying them accurately.  \n",
    "5.\tMacro Avg:  \n",
    "•\tAverage performance across both classes, treating them equally regardless of class size.  \n",
    "•\tPrecision: 0.73, Recall: 0.68, F1-Score: 0.69.  \n",
    "6.\tWeighted Avg:  \n",
    "•\tAverage performance weighted by the number of instances in each class.  \n",
    "•\tPrecision: 0.75, Recall: 0.75, F1-Score: 0.74.  \n",
    "  \n"
   ]
  },
  {
   "cell_type": "markdown",
   "id": "bd0d04c9",
   "metadata": {},
   "source": [
    "**Key Takeaways**  \n",
    "Strengths:  \n",
    "•\tThe model is good at identifying students who are “not at risk” (Class 0) with high precision and recall.  \n",
    "•\tThe overall accuracy of 75% shows the model has a solid baseline performance.  \n",
    "Weaknesses:  \n",
    "•\tThe model struggles with recall for high-risk students (Class 1), identifying less than half of them. This could be due to:  \n",
    "•\tClass Imbalance: There are significantly fewer high-risk students compared to not-at-risk students.  \n",
    "•\tFeature Limitations: The features used might not capture enough signal to distinguish high-risk students effectively.  \n"
   ]
  },
  {
   "cell_type": "markdown",
   "id": "b9326bcd",
   "metadata": {},
   "source": [
    "Correlation: -0.13  \n",
    "•\tA weak negative correlation between age and depression scores.  \n",
    "•\tIndicates that as age increases, depression scores tend to slightly decrease.  \n",
    "\n",
    "P-Value: 0.0594  \n",
    "•\tThis p-value is greater than 0.05, suggesting the relationship is not statistically significant.  \n",
    "•\tWe cannot confidently conclude that age has a meaningful impact on depression based on this analysis.  "
   ]
  },
  {
   "cell_type": "code",
   "execution_count": null,
   "id": "b1989a76",
   "metadata": {},
   "outputs": [],
   "source": [
    "# !jupyter nbconvert --to html 'students_analysis.ipynb'"
   ]
  }
 ],
 "metadata": {
  "colab": {
   "name": "Welcome to DataCamp Workspaces.ipynb",
   "provenance": []
  },
  "kernelspec": {
   "display_name": "example",
   "language": "python",
   "name": "python3"
  },
  "language_info": {
   "codemirror_mode": {
    "name": "ipython",
    "version": 3
   },
   "file_extension": ".py",
   "mimetype": "text/x-python",
   "name": "python",
   "nbconvert_exporter": "python",
   "pygments_lexer": "ipython3",
   "version": "3.12.2"
  }
 },
 "nbformat": 4,
 "nbformat_minor": 5
}
