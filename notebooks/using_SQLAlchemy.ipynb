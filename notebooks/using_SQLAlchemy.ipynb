{
 "cells": [
  {
   "cell_type": "markdown",
   "id": "fa835208",
   "metadata": {},
   "source": [
    "### Using Python's SQLite3 library"
   ]
  },
  {
   "cell_type": "code",
   "execution_count": null,
   "id": "522294b4",
   "metadata": {},
   "outputs": [],
   "source": [
    "# !pip install pandas sqlite3 ipython-sql jupyter"
   ]
  },
  {
   "cell_type": "code",
   "execution_count": null,
   "id": "193c451b",
   "metadata": {},
   "outputs": [],
   "source": [
    "import sqlite3\n",
    "import pandas as pd\n",
    "\n",
    "# Print SQLite version to ensure it's working\n",
    "# print(f\"SQLite version: {sqlite3.sqlite_version}\")\n",
    "\n",
    "# Load CSV into DataFrame\n",
    "csv_file = \"students.csv\"\n",
    "df = pd.read_csv(csv_file)\n",
    "\n",
    "# Create SQLite Database\n",
    "conn = sqlite3.connect(\"students.db\")\n",
    "df.to_sql(\"students\", conn, if_exists=\"replace\", index=False)\n",
    "# conn.close()\n",
    "print(\"Data loaded into SQLite database successfully.\")"
   ]
  },
  {
   "cell_type": "code",
   "execution_count": null,
   "id": "01658763",
   "metadata": {},
   "outputs": [],
   "source": [
    "# Write and Execute SQL Query\n",
    "query = \"SELECT * FROM students;\"\n",
    "\n",
    "# Set display options to show all rows\n",
    "pd.set_option('display.max_rows', None)\n",
    "# Execute the query and fetch results into a DataFrame\n",
    "pd.read_sql_query(query, conn)"
   ]
  },
  {
   "cell_type": "code",
   "execution_count": null,
   "id": "e650abfc",
   "metadata": {},
   "outputs": [],
   "source": [
    "query = \"\"\"\n",
    "SELECT stay,\n",
    "       COUNT(*) AS count_int,\n",
    "       ROUND(AVG(todep), 2) AS average_phq,\n",
    "       ROUND(AVG(tosc), 2) AS average_scs,\n",
    "       ROUND(AVG(toas), 2) AS average_as\n",
    "FROM students\n",
    "WHERE inter_dom = 'Inter'\n",
    "GROUP BY stay\n",
    "ORDER BY stay DESC;\n",
    "\"\"\"\n",
    "\n",
    "pd.read_sql_query(query, conn)"
   ]
  },
  {
   "cell_type": "code",
   "execution_count": 55,
   "id": "2c9801ac",
   "metadata": {},
   "outputs": [],
   "source": [
    "conn.close()"
   ]
  },
  {
   "cell_type": "markdown",
   "id": "943a3eed",
   "metadata": {},
   "source": [
    "### Using SQLAlchemy"
   ]
  },
  {
   "cell_type": "code",
   "execution_count": null,
   "id": "5ee536f3",
   "metadata": {},
   "outputs": [],
   "source": [
    "# !pip install sqlalchemy"
   ]
  },
  {
   "cell_type": "code",
   "execution_count": 56,
   "id": "2f142e3c",
   "metadata": {},
   "outputs": [],
   "source": [
    "from sqlalchemy import create_engine\n",
    "\n",
    "# Create SQLite connection\n",
    "engine = create_engine(\"sqlite:///students.db\")"
   ]
  },
  {
   "cell_type": "code",
   "execution_count": null,
   "id": "c14bebdc",
   "metadata": {},
   "outputs": [],
   "source": [
    "query = \"\"\"\n",
    "SELECT stay,\n",
    "       COUNT(*) AS count_int,\n",
    "       ROUND(AVG(todep), 2) AS average_phq,\n",
    "       ROUND(AVG(tosc), 2) AS average_scs,\n",
    "       ROUND(AVG(toas), 2) AS average_as\n",
    "FROM students\n",
    "WHERE inter_dom = 'Inter'\n",
    "GROUP BY stay\n",
    "ORDER BY stay DESC;\n",
    "\"\"\"\n",
    "\n",
    "pd.read_sql_query(query, engine)"
   ]
  },
  {
   "cell_type": "markdown",
   "id": "b4ac2409",
   "metadata": {},
   "source": [
    "### Using %%sql magic"
   ]
  },
  {
   "cell_type": "code",
   "execution_count": null,
   "id": "06a166a1",
   "metadata": {},
   "outputs": [],
   "source": [
    "### DOES NOT WORK IN JUPYTER NOTEBOOK\n",
    "\n",
    "# # Load the SQL extension\n",
    "# %load_ext sql\n",
    "# # Connect to the database\n",
    "# %sql sqlite:///students.db\n",
    "\n",
    "\n",
    "# %%sql\n",
    "# -- Run this code to view the data in students\n",
    "# SELECT * FROM students;\n",
    "\n",
    "\n",
    "# %%sql\n",
    "# -- Start coding here...\n",
    "# SELECT stay,\n",
    "#        COUNT(*) AS count_int,\n",
    "#        ROUND(AVG(todep), 2) AS average_phq,\n",
    "#        ROUND(AVG(tosc), 2) AS average_scs,\n",
    "#        ROUND(AVG(toas), 2) AS average_as\n",
    "# FROM students\n",
    "# WHERE inter_dom = 'Inter'\n",
    "# GROUP BY stay\n",
    "# ORDER BY stay DESC;"
   ]
  }
 ],
 "metadata": {
  "colab": {
   "name": "Welcome to DataCamp Workspaces.ipynb",
   "provenance": []
  },
  "kernelspec": {
   "display_name": "example",
   "language": "python",
   "name": "python3"
  },
  "language_info": {
   "codemirror_mode": {
    "name": "ipython",
    "version": 3
   },
   "file_extension": ".py",
   "mimetype": "text/x-python",
   "name": "python",
   "nbconvert_exporter": "python",
   "pygments_lexer": "ipython3",
   "version": "3.12.2"
  }
 },
 "nbformat": 4,
 "nbformat_minor": 5
}
